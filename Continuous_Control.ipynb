{
 "cells": [
  {
   "cell_type": "markdown",
   "metadata": {},
   "source": [
    "# Continuous Control\n",
    "\n",
    "---\n",
    "\n",
    "In this notebook, you will learn how to use the Unity ML-Agents environment for the second project of the [Deep Reinforcement Learning Nanodegree](https://www.udacity.com/course/deep-reinforcement-learning-nanodegree--nd893) program.\n",
    "\n",
    "### 1. Start the Environment\n",
    "\n",
    "We begin by importing the necessary packages.  If the code cell below returns an error, please revisit the project instructions to double-check that you have installed [Unity ML-Agents](https://github.com/Unity-Technologies/ml-agents/blob/master/docs/Installation.md) and [NumPy](http://www.numpy.org/)."
   ]
  },
  {
   "cell_type": "code",
   "execution_count": 1,
   "metadata": {
    "ExecuteTime": {
     "end_time": "2021-10-12T10:59:03.805835Z",
     "start_time": "2021-10-12T10:59:01.376634Z"
    }
   },
   "outputs": [],
   "source": [
    "from unityagents import UnityEnvironment\n",
    "import numpy as np\n",
    "from collections import deque\n",
    "import torch"
   ]
  },
  {
   "cell_type": "markdown",
   "metadata": {},
   "source": [
    "Next, we will start the environment!  **_Before running the code cell below_**, change the `file_name` parameter to match the location of the Unity environment that you downloaded.\n",
    "\n",
    "- **Mac**: `\"path/to/Reacher.app\"`\n",
    "- **Windows** (x86): `\"path/to/Reacher_Windows_x86/Reacher.exe\"`\n",
    "- **Windows** (x86_64): `\"path/to/Reacher_Windows_x86_64/Reacher.exe\"`\n",
    "- **Linux** (x86): `\"path/to/Reacher_Linux/Reacher.x86\"`\n",
    "- **Linux** (x86_64): `\"path/to/Reacher_Linux/Reacher.x86_64\"`\n",
    "- **Linux** (x86, headless): `\"path/to/Reacher_Linux_NoVis/Reacher.x86\"`\n",
    "- **Linux** (x86_64, headless): `\"path/to/Reacher_Linux_NoVis/Reacher.x86_64\"`\n",
    "\n",
    "For instance, if you are using a Mac, then you downloaded `Reacher.app`.  If this file is in the same folder as the notebook, then the line below should appear as follows:\n",
    "```\n",
    "env = UnityEnvironment(file_name=\"Reacher.app\")\n",
    "```"
   ]
  },
  {
   "cell_type": "code",
   "execution_count": 2,
   "metadata": {
    "ExecuteTime": {
     "end_time": "2021-10-12T10:59:08.812147Z",
     "start_time": "2021-10-12T10:59:03.811838Z"
    }
   },
   "outputs": [
    {
     "name": "stderr",
     "output_type": "stream",
     "text": [
      "INFO:unityagents:\n",
      "'Academy' started successfully!\n",
      "Unity Academy name: Academy\n",
      "        Number of Brains: 1\n",
      "        Number of External Brains : 1\n",
      "        Lesson number : 0\n",
      "        Reset Parameters :\n",
      "\t\tgoal_speed -> 1.0\n",
      "\t\tgoal_size -> 5.0\n",
      "Unity brain name: ReacherBrain\n",
      "        Number of Visual Observations (per agent): 0\n",
      "        Vector Observation space type: continuous\n",
      "        Vector Observation space size (per agent): 33\n",
      "        Number of stacked Vector Observation: 1\n",
      "        Vector Action space type: continuous\n",
      "        Vector Action space size (per agent): 4\n",
      "        Vector Action descriptions: , , , \n"
     ]
    }
   ],
   "source": [
    "env = UnityEnvironment(file_name='Reacher_Windows_x86_64/Reacher.exe')"
   ]
  },
  {
   "cell_type": "markdown",
   "metadata": {},
   "source": [
    "Environments contain **_brains_** which are responsible for deciding the actions of their associated agents. Here we check for the first brain available, and set it as the default brain we will be controlling from Python."
   ]
  },
  {
   "cell_type": "code",
   "execution_count": 3,
   "metadata": {
    "ExecuteTime": {
     "end_time": "2021-10-12T10:59:08.828156Z",
     "start_time": "2021-10-12T10:59:08.818155Z"
    }
   },
   "outputs": [],
   "source": [
    "# get the default brain\n",
    "brain_name = env.brain_names[0]\n",
    "brain = env.brains[brain_name]"
   ]
  },
  {
   "cell_type": "markdown",
   "metadata": {},
   "source": [
    "### 2. Examine the State and Action Spaces\n",
    "\n",
    "In this environment, a double-jointed arm can move to target locations. A reward of `+0.1` is provided for each step that the agent's hand is in the goal location. Thus, the goal of your agent is to maintain its position at the target location for as many time steps as possible.\n",
    "\n",
    "The observation space consists of `33` variables corresponding to position, rotation, velocity, and angular velocities of the arm.  Each action is a vector with four numbers, corresponding to torque applicable to two joints.  Every entry in the action vector must be a number between `-1` and `1`.\n",
    "\n",
    "Run the code cell below to print some information about the environment."
   ]
  },
  {
   "cell_type": "code",
   "execution_count": 4,
   "metadata": {
    "ExecuteTime": {
     "end_time": "2021-10-12T10:59:09.569221Z",
     "start_time": "2021-10-12T10:59:08.839180Z"
    }
   },
   "outputs": [
    {
     "name": "stdout",
     "output_type": "stream",
     "text": [
      "Number of agents: 1\n",
      "Size of each action: 4\n",
      "There are 1 agents. Each observes a state with length: 33\n",
      "The state for the first agent looks like: [ 0.00000000e+00 -4.00000000e+00  0.00000000e+00  1.00000000e+00\n",
      " -0.00000000e+00 -0.00000000e+00 -4.37113883e-08  0.00000000e+00\n",
      "  0.00000000e+00  0.00000000e+00  0.00000000e+00  0.00000000e+00\n",
      "  0.00000000e+00  0.00000000e+00 -1.00000000e+01  0.00000000e+00\n",
      "  1.00000000e+00 -0.00000000e+00 -0.00000000e+00 -4.37113883e-08\n",
      "  0.00000000e+00  0.00000000e+00  0.00000000e+00  0.00000000e+00\n",
      "  0.00000000e+00  0.00000000e+00  5.75471878e+00 -1.00000000e+00\n",
      "  5.55726671e+00  0.00000000e+00  1.00000000e+00  0.00000000e+00\n",
      " -1.68164849e-01]\n"
     ]
    }
   ],
   "source": [
    "# reset the environment\n",
    "env_info = env.reset(train_mode=True)[brain_name]\n",
    "\n",
    "# number of agents\n",
    "num_agents = len(env_info.agents)\n",
    "print('Number of agents:', num_agents)\n",
    "\n",
    "# size of each action\n",
    "action_size = brain.vector_action_space_size\n",
    "print('Size of each action:', action_size)\n",
    "\n",
    "# examine the state space \n",
    "state = env_info.vector_observations\n",
    "state_size = state.shape[1]\n",
    "print('There are {} agents. Each observes a state with length: {}'.format(state.shape[0], state_size))\n",
    "print('The state for the first agent looks like:', state[0])"
   ]
  },
  {
   "cell_type": "code",
   "execution_count": 5,
   "metadata": {
    "ExecuteTime": {
     "end_time": "2021-10-12T10:59:13.900629Z",
     "start_time": "2021-10-12T10:59:09.573221Z"
    }
   },
   "outputs": [],
   "source": [
    "from ddpg_agent import Agent\n",
    "    \n",
    "agent = Agent(state_size=state_size, action_size=action_size, random_seed=10)"
   ]
  },
  {
   "cell_type": "code",
   "execution_count": 6,
   "metadata": {
    "ExecuteTime": {
     "end_time": "2021-10-12T10:59:13.947151Z",
     "start_time": "2021-10-12T10:59:13.903631Z"
    }
   },
   "outputs": [],
   "source": [
    "def ddpg(n_episodes=1000, max_t=10000):\n",
    "    \"\"\"DDQN Algorithm.\n",
    "    \n",
    "    Params\n",
    "    ======\n",
    "        n_episodes (int): maximum number of training episodes\n",
    "        max_t (int): maximum number of timesteps per episode\n",
    "        print_every (int): frequency of printing information throughout iteration \"\"\"\n",
    "    \n",
    "    scores = []\n",
    "    scores_deque = deque(maxlen=100)\n",
    "    \n",
    "    for i_episode in range(1, n_episodes+1):\n",
    "        env_info = env.reset(train_mode=True)[brain_name]\n",
    "        agent.reset()\n",
    "        state = env_info.vector_observations[0]            # get the current state\n",
    "        score = 0\n",
    "        \n",
    "        for t in range(max_t):\n",
    "            action = agent.act(state)          # select an action\n",
    "       \n",
    "            env_info = env.step(action)[brain_name]        # send the action to the environment\n",
    "            next_state = env_info.vector_observations[0]   # get the next state\n",
    "            reward = env_info.rewards[0]                   # get the reward\n",
    "            done = env_info.local_done[0]                  # see if episode has finished\n",
    "            agent.step(state, action, reward, next_state, done) # take step with agent (including learning)\n",
    "            score += reward                                # update the score\n",
    "            state = next_state                             # roll over the state to next time step\n",
    "            if done:                                       # exit loop if episode finished\n",
    "                break\n",
    "        \n",
    "        scores_deque.append(score)       # save most recent score\n",
    "        scores.append(score)             # save most recent score\n",
    "\n",
    "        print('\\rEpisode {}\\tScore: {:.2f}\\tAverage Score: {:.2f}'.format(i_episode, score, np.mean(scores_deque)))\n",
    "        \n",
    "        torch.save(agent.actor_local.state_dict(), 'checkpoint_actor.pth')\n",
    "        torch.save(agent.critic_local.state_dict(), 'checkpoint_critic.pth')\n",
    "        \n",
    "        if np.mean(scores_deque)>=30.0:\n",
    "            print('\\nEnvironment solved in {:d} Episodes \\tAverage Score: {:.2f}'.format(i_episode, np.mean(scores_deque)))\n",
    "            torch.save(agent.actor_local.state_dict(), 'checkpoint_actor.pth')\n",
    "            torch.save(agent.critic_local.state_dict(), 'checkpoint_critic.pth')\n",
    "            break\n",
    "            \n",
    "    return scores"
   ]
  },
  {
   "cell_type": "code",
   "execution_count": 7,
   "metadata": {
    "ExecuteTime": {
     "end_time": "2021-10-12T11:57:57.422519Z",
     "start_time": "2021-10-12T10:59:13.953153Z"
    }
   },
   "outputs": [
    {
     "name": "stdout",
     "output_type": "stream",
     "text": [
      "Episode 1\tScore: 0.20\tAverage Score: 0.20\n",
      "Episode 2\tScore: 0.33\tAverage Score: 0.26\n",
      "Episode 3\tScore: 0.50\tAverage Score: 0.34\n",
      "Episode 4\tScore: 0.35\tAverage Score: 0.34\n",
      "Episode 5\tScore: 0.00\tAverage Score: 0.28\n",
      "Episode 6\tScore: 0.16\tAverage Score: 0.26\n",
      "Episode 7\tScore: 1.61\tAverage Score: 0.45\n",
      "Episode 8\tScore: 0.82\tAverage Score: 0.50\n",
      "Episode 9\tScore: 0.61\tAverage Score: 0.51\n",
      "Episode 10\tScore: 0.65\tAverage Score: 0.52\n",
      "Episode 11\tScore: 1.52\tAverage Score: 0.61\n",
      "Episode 12\tScore: 1.53\tAverage Score: 0.69\n",
      "Episode 13\tScore: 0.09\tAverage Score: 0.64\n",
      "Episode 14\tScore: 1.03\tAverage Score: 0.67\n",
      "Episode 15\tScore: 0.00\tAverage Score: 0.63\n",
      "Episode 16\tScore: 3.10\tAverage Score: 0.78\n",
      "Episode 17\tScore: 0.82\tAverage Score: 0.78\n",
      "Episode 18\tScore: 1.01\tAverage Score: 0.80\n",
      "Episode 19\tScore: 3.08\tAverage Score: 0.92\n",
      "Episode 20\tScore: 3.21\tAverage Score: 1.03\n",
      "Episode 21\tScore: 1.89\tAverage Score: 1.07\n",
      "Episode 22\tScore: 2.57\tAverage Score: 1.14\n",
      "Episode 23\tScore: 3.33\tAverage Score: 1.24\n",
      "Episode 24\tScore: 2.54\tAverage Score: 1.29\n",
      "Episode 25\tScore: 0.82\tAverage Score: 1.27\n",
      "Episode 26\tScore: 1.89\tAverage Score: 1.29\n",
      "Episode 27\tScore: 1.44\tAverage Score: 1.30\n",
      "Episode 28\tScore: 1.78\tAverage Score: 1.32\n",
      "Episode 29\tScore: 1.37\tAverage Score: 1.32\n",
      "Episode 30\tScore: 2.31\tAverage Score: 1.35\n",
      "Episode 31\tScore: 2.07\tAverage Score: 1.38\n",
      "Episode 32\tScore: 2.31\tAverage Score: 1.40\n",
      "Episode 33\tScore: 2.72\tAverage Score: 1.44\n",
      "Episode 34\tScore: 3.31\tAverage Score: 1.50\n",
      "Episode 35\tScore: 1.79\tAverage Score: 1.51\n",
      "Episode 36\tScore: 2.80\tAverage Score: 1.54\n",
      "Episode 37\tScore: 2.84\tAverage Score: 1.58\n",
      "Episode 38\tScore: 2.67\tAverage Score: 1.61\n",
      "Episode 39\tScore: 4.24\tAverage Score: 1.67\n",
      "Episode 40\tScore: 3.43\tAverage Score: 1.72\n",
      "Episode 41\tScore: 2.90\tAverage Score: 1.75\n",
      "Episode 42\tScore: 3.62\tAverage Score: 1.79\n",
      "Episode 43\tScore: 2.03\tAverage Score: 1.80\n",
      "Episode 44\tScore: 4.88\tAverage Score: 1.87\n",
      "Episode 45\tScore: 2.03\tAverage Score: 1.87\n",
      "Episode 46\tScore: 3.59\tAverage Score: 1.91\n",
      "Episode 47\tScore: 6.40\tAverage Score: 2.00\n",
      "Episode 48\tScore: 4.31\tAverage Score: 2.05\n",
      "Episode 49\tScore: 3.43\tAverage Score: 2.08\n",
      "Episode 50\tScore: 4.38\tAverage Score: 2.13\n",
      "Episode 51\tScore: 4.70\tAverage Score: 2.18\n",
      "Episode 52\tScore: 4.80\tAverage Score: 2.23\n",
      "Episode 53\tScore: 2.61\tAverage Score: 2.23\n",
      "Episode 54\tScore: 3.48\tAverage Score: 2.26\n",
      "Episode 55\tScore: 3.68\tAverage Score: 2.28\n",
      "Episode 56\tScore: 5.61\tAverage Score: 2.34\n",
      "Episode 57\tScore: 7.30\tAverage Score: 2.43\n",
      "Episode 58\tScore: 5.04\tAverage Score: 2.47\n",
      "Episode 59\tScore: 0.59\tAverage Score: 2.44\n",
      "Episode 60\tScore: 3.73\tAverage Score: 2.46\n",
      "Episode 61\tScore: 2.50\tAverage Score: 2.46\n",
      "Episode 62\tScore: 3.38\tAverage Score: 2.48\n",
      "Episode 63\tScore: 7.41\tAverage Score: 2.56\n",
      "Episode 64\tScore: 2.84\tAverage Score: 2.56\n",
      "Episode 65\tScore: 5.75\tAverage Score: 2.61\n",
      "Episode 66\tScore: 6.77\tAverage Score: 2.67\n",
      "Episode 67\tScore: 3.55\tAverage Score: 2.69\n",
      "Episode 68\tScore: 7.05\tAverage Score: 2.75\n",
      "Episode 69\tScore: 16.84\tAverage Score: 2.96\n",
      "Episode 70\tScore: 10.22\tAverage Score: 3.06\n",
      "Episode 71\tScore: 9.42\tAverage Score: 3.15\n",
      "Episode 72\tScore: 7.23\tAverage Score: 3.21\n",
      "Episode 73\tScore: 4.20\tAverage Score: 3.22\n",
      "Episode 74\tScore: 5.22\tAverage Score: 3.25\n",
      "Episode 75\tScore: 3.90\tAverage Score: 3.26\n",
      "Episode 76\tScore: 7.30\tAverage Score: 3.31\n",
      "Episode 77\tScore: 9.65\tAverage Score: 3.39\n",
      "Episode 78\tScore: 4.53\tAverage Score: 3.41\n",
      "Episode 79\tScore: 6.47\tAverage Score: 3.44\n",
      "Episode 80\tScore: 2.02\tAverage Score: 3.43\n",
      "Episode 81\tScore: 6.98\tAverage Score: 3.47\n",
      "Episode 82\tScore: 4.94\tAverage Score: 3.49\n",
      "Episode 83\tScore: 9.13\tAverage Score: 3.56\n",
      "Episode 84\tScore: 7.94\tAverage Score: 3.61\n",
      "Episode 85\tScore: 3.53\tAverage Score: 3.61\n",
      "Episode 86\tScore: 7.62\tAverage Score: 3.65\n",
      "Episode 87\tScore: 8.65\tAverage Score: 3.71\n",
      "Episode 88\tScore: 3.26\tAverage Score: 3.71\n",
      "Episode 89\tScore: 9.21\tAverage Score: 3.77\n",
      "Episode 90\tScore: 9.53\tAverage Score: 3.83\n",
      "Episode 91\tScore: 11.32\tAverage Score: 3.91\n",
      "Episode 92\tScore: 7.34\tAverage Score: 3.95\n",
      "Episode 93\tScore: 13.64\tAverage Score: 4.06\n",
      "Episode 94\tScore: 5.55\tAverage Score: 4.07\n",
      "Episode 95\tScore: 15.05\tAverage Score: 4.19\n",
      "Episode 96\tScore: 14.30\tAverage Score: 4.29\n",
      "Episode 97\tScore: 3.32\tAverage Score: 4.28\n",
      "Episode 98\tScore: 18.02\tAverage Score: 4.42\n",
      "Episode 99\tScore: 8.76\tAverage Score: 4.47\n",
      "Episode 100\tScore: 13.80\tAverage Score: 4.56\n",
      "Episode 101\tScore: 12.55\tAverage Score: 4.68\n",
      "Episode 102\tScore: 19.21\tAverage Score: 4.87\n",
      "Episode 103\tScore: 9.68\tAverage Score: 4.96\n",
      "Episode 104\tScore: 19.12\tAverage Score: 5.15\n",
      "Episode 105\tScore: 10.27\tAverage Score: 5.25\n",
      "Episode 106\tScore: 19.07\tAverage Score: 5.44\n",
      "Episode 107\tScore: 17.47\tAverage Score: 5.60\n",
      "Episode 108\tScore: 15.69\tAverage Score: 5.75\n",
      "Episode 109\tScore: 23.13\tAverage Score: 5.98\n",
      "Episode 110\tScore: 23.80\tAverage Score: 6.21\n",
      "Episode 111\tScore: 13.21\tAverage Score: 6.32\n",
      "Episode 112\tScore: 12.91\tAverage Score: 6.44\n",
      "Episode 113\tScore: 21.40\tAverage Score: 6.65\n",
      "Episode 114\tScore: 16.77\tAverage Score: 6.81\n",
      "Episode 115\tScore: 35.33\tAverage Score: 7.16\n",
      "Episode 116\tScore: 16.36\tAverage Score: 7.29\n",
      "Episode 117\tScore: 20.79\tAverage Score: 7.49\n",
      "Episode 118\tScore: 16.78\tAverage Score: 7.65\n",
      "Episode 119\tScore: 33.22\tAverage Score: 7.95\n",
      "Episode 120\tScore: 24.95\tAverage Score: 8.17\n",
      "Episode 121\tScore: 24.63\tAverage Score: 8.40\n",
      "Episode 122\tScore: 36.54\tAverage Score: 8.74\n",
      "Episode 123\tScore: 23.12\tAverage Score: 8.94\n",
      "Episode 124\tScore: 24.97\tAverage Score: 9.16\n",
      "Episode 125\tScore: 30.16\tAverage Score: 9.45\n",
      "Episode 126\tScore: 26.74\tAverage Score: 9.70\n",
      "Episode 127\tScore: 33.66\tAverage Score: 10.02\n",
      "Episode 128\tScore: 37.44\tAverage Score: 10.38\n",
      "Episode 129\tScore: 32.08\tAverage Score: 10.69\n",
      "Episode 130\tScore: 26.38\tAverage Score: 10.93\n",
      "Episode 131\tScore: 33.01\tAverage Score: 11.24\n",
      "Episode 132\tScore: 25.99\tAverage Score: 11.47\n",
      "Episode 133\tScore: 39.21\tAverage Score: 11.84\n",
      "Episode 134\tScore: 22.71\tAverage Score: 12.03\n",
      "Episode 135\tScore: 16.18\tAverage Score: 12.18\n",
      "Episode 136\tScore: 31.88\tAverage Score: 12.47\n",
      "Episode 137\tScore: 35.27\tAverage Score: 12.79\n",
      "Episode 138\tScore: 35.37\tAverage Score: 13.12\n",
      "Episode 139\tScore: 32.16\tAverage Score: 13.40\n",
      "Episode 140\tScore: 39.44\tAverage Score: 13.76\n",
      "Episode 141\tScore: 17.67\tAverage Score: 13.91\n",
      "Episode 142\tScore: 30.11\tAverage Score: 14.17\n",
      "Episode 143\tScore: 36.53\tAverage Score: 14.52\n",
      "Episode 144\tScore: 34.60\tAverage Score: 14.81\n",
      "Episode 145\tScore: 36.06\tAverage Score: 15.15\n",
      "Episode 146\tScore: 34.46\tAverage Score: 15.46\n",
      "Episode 147\tScore: 33.26\tAverage Score: 15.73\n",
      "Episode 148\tScore: 37.60\tAverage Score: 16.06\n",
      "Episode 149\tScore: 38.33\tAverage Score: 16.41\n",
      "Episode 150\tScore: 37.77\tAverage Score: 16.75\n",
      "Episode 151\tScore: 39.24\tAverage Score: 17.09\n",
      "Episode 152\tScore: 36.33\tAverage Score: 17.41\n",
      "Episode 153\tScore: 36.74\tAverage Score: 17.75\n",
      "Episode 154\tScore: 38.22\tAverage Score: 18.10\n",
      "Episode 155\tScore: 28.01\tAverage Score: 18.34\n",
      "Episode 156\tScore: 37.80\tAverage Score: 18.66\n",
      "Episode 157\tScore: 38.61\tAverage Score: 18.97\n",
      "Episode 158\tScore: 38.95\tAverage Score: 19.31\n",
      "Episode 159\tScore: 39.54\tAverage Score: 19.70\n",
      "Episode 160\tScore: 31.17\tAverage Score: 19.98\n",
      "Episode 161\tScore: 39.22\tAverage Score: 20.35\n",
      "Episode 162\tScore: 34.72\tAverage Score: 20.66\n",
      "Episode 163\tScore: 23.90\tAverage Score: 20.82\n",
      "Episode 164\tScore: 36.37\tAverage Score: 21.16\n",
      "Episode 165\tScore: 38.53\tAverage Score: 21.49\n",
      "Episode 166\tScore: 35.65\tAverage Score: 21.78\n",
      "Episode 167\tScore: 39.23\tAverage Score: 22.13\n",
      "Episode 168\tScore: 22.96\tAverage Score: 22.29\n",
      "Episode 169\tScore: 32.85\tAverage Score: 22.45\n",
      "Episode 170\tScore: 37.78\tAverage Score: 22.73\n",
      "Episode 171\tScore: 35.64\tAverage Score: 22.99\n",
      "Episode 172\tScore: 37.24\tAverage Score: 23.29\n",
      "Episode 173\tScore: 36.57\tAverage Score: 23.61\n",
      "Episode 174\tScore: 37.79\tAverage Score: 23.94\n",
      "Episode 175\tScore: 35.27\tAverage Score: 24.25\n",
      "Episode 176\tScore: 37.55\tAverage Score: 24.55\n",
      "Episode 177\tScore: 39.52\tAverage Score: 24.85\n",
      "Episode 178\tScore: 32.24\tAverage Score: 25.13\n",
      "Episode 179\tScore: 35.13\tAverage Score: 25.42\n",
      "Episode 180\tScore: 30.42\tAverage Score: 25.70\n",
      "Episode 181\tScore: 36.06\tAverage Score: 25.99\n",
      "Episode 182\tScore: 37.40\tAverage Score: 26.32\n",
      "Episode 183\tScore: 37.34\tAverage Score: 26.60\n",
      "Episode 184\tScore: 32.64\tAverage Score: 26.85\n",
      "Episode 185\tScore: 35.43\tAverage Score: 27.16\n",
      "Episode 186\tScore: 37.16\tAverage Score: 27.46\n"
     ]
    },
    {
     "name": "stdout",
     "output_type": "stream",
     "text": [
      "Episode 187\tScore: 35.17\tAverage Score: 27.73\n",
      "Episode 188\tScore: 36.95\tAverage Score: 28.06\n",
      "Episode 189\tScore: 39.23\tAverage Score: 28.36\n",
      "Episode 190\tScore: 20.35\tAverage Score: 28.47\n",
      "Episode 191\tScore: 28.44\tAverage Score: 28.64\n",
      "Episode 192\tScore: 39.25\tAverage Score: 28.96\n",
      "Episode 193\tScore: 38.36\tAverage Score: 29.21\n",
      "Episode 194\tScore: 38.99\tAverage Score: 29.54\n",
      "Episode 195\tScore: 31.50\tAverage Score: 29.71\n",
      "Episode 196\tScore: 29.11\tAverage Score: 29.86\n",
      "Episode 197\tScore: 33.34\tAverage Score: 30.16\n",
      "\n",
      "Environment solved in 197 Episodes \tAverage Score: 30.16\n"
     ]
    }
   ],
   "source": [
    "scores = ddpg(n_episodes = 500)"
   ]
  },
  {
   "cell_type": "markdown",
   "metadata": {},
   "source": [
    "### 3. Take Random Actions in the Environment\n",
    "\n",
    "In the next code cell, you will learn how to use the Python API to control the agent and receive feedback from the environment.\n",
    "\n",
    "Once this cell is executed, you will watch the agent's performance, if it selects an action at random with each time step.  A window should pop up that allows you to observe the agent, as it moves through the environment.  \n",
    "\n",
    "Of course, as part of the project, you'll have to change the code so that the agent is able to use its experience to gradually choose better actions when interacting with the environment!"
   ]
  },
  {
   "cell_type": "code",
   "execution_count": 8,
   "metadata": {
    "ExecuteTime": {
     "end_time": "2021-10-12T11:57:58.160940Z",
     "start_time": "2021-10-12T11:57:57.426420Z"
    }
   },
   "outputs": [
    {
     "name": "stderr",
     "output_type": "stream",
     "text": [
      "WARNING:matplotlib.legend:No handles with labels found to put in legend.\n"
     ]
    },
    {
     "data": {
      "image/png": "[encoded data removed]",
      "text/plain": [
       "<Figure size 432x288 with 1 Axes>"
      ]
     },
     "metadata": {
      "needs_background": "light"
     },
     "output_type": "display_data"
    }
   ],
   "source": [
    "import matplotlib.pyplot as plt\n",
    "\n",
    "def remove_noise(scores):\n",
    "    \"\"\" \n",
    "    This method will flat a noisy plot \n",
    "    returns: array of scores less noisy\n",
    "    \"\"\"\n",
    "    batch_size = 50 # The more, the less noisy\n",
    "    output = []\n",
    "    for i in range(len(scores)):\n",
    "        batch = scores[i:i+batch_size]\n",
    "        output.append(np.mean(batch))\n",
    "        if i+batch_size >= len(scores):\n",
    "            break\n",
    "            \n",
    "    return output\n",
    "\n",
    "# plot the scores\n",
    "fig = plt.figure()\n",
    "ax = fig.add_subplot(111)\n",
    "plt.plot(np.arange(len(scores)), scores)\n",
    "plt.ylabel('Score')\n",
    "plt.xlabel('Episode #')\n",
    "plt.legend()\n",
    "plt.show()"
   ]
  },
  {
   "cell_type": "markdown",
   "metadata": {},
   "source": [
    "When finished, you can close the environment."
   ]
  },
  {
   "cell_type": "code",
   "execution_count": 9,
   "metadata": {
    "ExecuteTime": {
     "end_time": "2021-10-12T11:57:58.176940Z",
     "start_time": "2021-10-12T11:57:58.162938Z"
    }
   },
   "outputs": [],
   "source": [
    "env.close()"
   ]
  }
 ],
 "metadata": {
  "hide_input": false,
  "kernelspec": {
   "display_name": "drlnd",
   "language": "python",
   "name": "drlnd"
  },
  "language_info": {
   "codemirror_mode": {
    "name": "ipython",
    "version": 3
   },
   "file_extension": ".py",
   "mimetype": "text/x-python",
   "name": "python",
   "nbconvert_exporter": "python",
   "pygments_lexer": "ipython3",
   "version": "3.6.13"
  },
  "toc": {
   "base_numbering": 1,
   "nav_menu": {},
   "number_sections": true,
   "sideBar": true,
   "skip_h1_title": false,
   "title_cell": "Table of Contents",
   "title_sidebar": "Contents",
   "toc_cell": false,
   "toc_position": {},
   "toc_section_display": true,
   "toc_window_display": false
  },
  "varInspector": {
   "cols": {
    "lenName": 16,
    "lenType": 16,
    "lenVar": 40
   },
   "kernels_config": {
    "python": {
     "delete_cmd_postfix": "",
     "delete_cmd_prefix": "del ",
     "library": "var_list.py",
     "varRefreshCmd": "print(var_dic_list())"
    },
    "r": {
     "delete_cmd_postfix": ") ",
     "delete_cmd_prefix": "rm(",
     "library": "var_list.r",
     "varRefreshCmd": "cat(var_dic_list()) "
    }
   },
   "types_to_exclude": [
    "module",
    "function",
    "builtin_function_or_method",
    "instance",
    "_Feature"
   ],
   "window_display": false
  }
 },
 "nbformat": 4,
 "nbformat_minor": 2
}
